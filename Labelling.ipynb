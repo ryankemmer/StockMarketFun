{
 "metadata": {
  "language_info": {
   "codemirror_mode": {
    "name": "ipython",
    "version": 3
   },
   "file_extension": ".py",
   "mimetype": "text/x-python",
   "name": "python",
   "nbconvert_exporter": "python",
   "pygments_lexer": "ipython3",
   "version": 3
  },
  "orig_nbformat": 2
 },
 "nbformat": 4,
 "nbformat_minor": 2,
 "cells": [
  {
   "cell_type": "code",
   "execution_count": null,
   "metadata": {},
   "outputs": [],
   "source": [
    "#daily volitility estimates\n",
    "\n",
    "def getDailyVol(close, span0 = 100):\n",
    "    #daily vol\n",
    "    df0 = close.index.searchsorted(close.index - pd.Timedelta(days = 1))\n",
    "    df0 = df0[df0 > 0]\n",
    "    df0 = pd.Series(close.index[df0 -1], index=close.index[close.shape[0] - df0.shape[0]:])\n",
    "    df0 = close.loc[df0.index]/close.loc[df0.values].values-1 #daily returns\n",
    "    df0 = df0.ewm(span = span0).std()\n",
    "    return df0\n",
    "\n",
    "\n",
    "#triple barrier labelling\n",
    "\n",
    "def applyPtSlOnT1(close, events, ptSl, molecule):\n",
    "\n",
    "    #apply stop loss/profit taking, if it takes place before t1 (end of event)\n",
    "    events = events.loc[molecule]\n",
    "    out = events_[['t1']].copy(deep=True)\n",
    "    if ptSl[0] > 0:\n",
    "        pt = ptSl[0] * events_['trgt']\n",
    "    else:\n",
    "        pt = pd.Series(index = events.index)\n",
    "\n",
    "    if ptSl[1] > 0:\n",
    "        sl = ptSl[1] * events_['trgt']\n",
    "    else:\n",
    "        sl = pd.Series(index = events.index)\n",
    "\n",
    "    for loc, t1 in events_['t1'].fillna(close.index[-1]).iteritems():\n",
    "        df0 = close[loc:t1] #path prices\n",
    "        df0 = (df0/close[loc] -1) * events_.at[loc,'side'] #path returns\n",
    "        out.loc[loc, 'sl'] = df0[df0<sl[loc]].index.min() #earliest stop loss\n",
    "        out.loc[loc, 'pt'] = df0[df0<pt[loc]].index.min() #earliest profit taking\n",
    "\n",
    "    return out"
   ]
  }
 ]
}